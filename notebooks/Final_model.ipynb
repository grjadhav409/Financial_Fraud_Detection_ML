{
  "nbformat": 4,
  "nbformat_minor": 0,
  "metadata": {
    "colab": {
      "name": "Final_model.ipynb",
      "provenance": []
    },
    "kernelspec": {
      "name": "python3",
      "display_name": "Python 3"
    },
    "language_info": {
      "name": "python"
    }
  },
  "cells": [
    {
      "cell_type": "code",
      "metadata": {
        "id": "4-5Tv363pgEH"
      },
      "source": [
        "from sklearn.preprocessing import StandardScaler\n",
        "from sklearn.pipeline import Pipeline, make_pipeline\n",
        "from sklearn.naive_bayes import GaussianNB\n",
        "from sklearn.decomposition import PCA\n",
        "from sklearn.linear_model import LogisticRegression\n",
        "from sklearn.ensemble import GradientBoostingClassifier,RandomForestClassifier,AdaBoostClassifier\n",
        "from sklearn.tree import DecisionTreeClassifier\n",
        "from sklearn.neighbors import KNeighborsClassifier\n",
        "from sklearn.metrics import classification_report, confusion_matrix,accuracy_score,roc_curve,auc, roc_auc_score\n",
        "from sklearn.model_selection import GridSearchCV, cross_val_score\n",
        "from sklearn.metrics import precision_score, recall_score, precision_recall_fscore_support\n",
        "from sklearn.metrics import f1_score,precision_recall_curve\n",
        "import pandas as pd\n",
        "import numpy as np\n",
        "import os\n",
        "import matplotlib.pyplot as plt\n",
        "%matplotlib inline\n",
        "import seaborn as sns\n",
        "import warnings\n",
        "warnings.filterwarnings('ignore')"
      ],
      "execution_count": 1,
      "outputs": []
    },
    {
      "cell_type": "code",
      "metadata": {
        "colab": {
          "base_uri": "https://localhost:8080/"
        },
        "id": "AlEK_crppk08",
        "outputId": "264a3493-c0c5-4166-9325-d573b3c3f4d9"
      },
      "source": [
        "from google.colab import drive\n",
        "drive.mount('/content/drive')"
      ],
      "execution_count": 2,
      "outputs": [
        {
          "output_type": "stream",
          "name": "stdout",
          "text": [
            "Mounted at /content/drive\n"
          ]
        }
      ]
    },
    {
      "cell_type": "code",
      "metadata": {
        "id": "HYQmKwVEpnL2"
      },
      "source": [
        "credit_data= pd.read_csv(\"/content/drive/MyDrive/Internship_project/credit_data.csv\")"
      ],
      "execution_count": 3,
      "outputs": []
    },
    {
      "cell_type": "code",
      "metadata": {
        "colab": {
          "base_uri": "https://localhost:8080/"
        },
        "id": "SSo24_fmlJLl",
        "outputId": "a8bd49af-2d87-47e4-e03d-9a3042699a7d"
      },
      "source": [
        "credit_data.shape"
      ],
      "execution_count": 5,
      "outputs": [
        {
          "output_type": "execute_result",
          "data": {
            "text/plain": [
              "(252903, 31)"
            ]
          },
          "metadata": {},
          "execution_count": 5
        }
      ]
    },
    {
      "cell_type": "code",
      "metadata": {
        "id": "9_Dy5pBlpvmR"
      },
      "source": [
        "X= credit_data.drop('Class', axis= 1)\n",
        "y= credit_data['Class']"
      ],
      "execution_count": 6,
      "outputs": []
    },
    {
      "cell_type": "code",
      "metadata": {
        "id": "acGod2HCp1-q"
      },
      "source": [
        "#Feature EngineeringPowerTransformer\n",
        "from sklearn.preprocessing import PowerTransformer\n",
        "power = PowerTransformer(method='yeo-johnson', standardize=True)\n",
        "df = power.fit_transform(X)"
      ],
      "execution_count": 7,
      "outputs": []
    },
    {
      "cell_type": "code",
      "metadata": {
        "colab": {
          "base_uri": "https://localhost:8080/"
        },
        "id": "LccYCrh1p8bl",
        "outputId": "9a2e9b02-2fb9-40ea-fdd2-c8fc73cc30ff"
      },
      "source": [
        "df= pd.DataFrame(data= df, columns= X.columns)\n",
        "from imblearn.over_sampling import SMOTE\n",
        "from collections import Counter\n",
        "smt = SMOTE(random_state=2425, n_jobs=-1,sampling_strategy='auto', k_neighbors=5)\n",
        "X_sm, y_sm = smt.fit_resample(df, y)\n",
        "print('Resampled dataset shape {}'.format(Counter(y_sm)))\n",
        "print('Before Resampled dataset shape {}'.format(Counter(y)))"
      ],
      "execution_count": 8,
      "outputs": [
        {
          "output_type": "stream",
          "name": "stdout",
          "text": [
            "Resampled dataset shape Counter({0: 252502, 1: 252502})\n",
            "Before Resampled dataset shape Counter({0: 252502, 1: 401})\n"
          ]
        }
      ]
    },
    {
      "cell_type": "code",
      "metadata": {
        "id": "zq5eLtegp862"
      },
      "source": [
        "from sklearn.model_selection import train_test_split\n",
        "\n",
        "x_train, x_test, y_train, y_test = train_test_split(X_sm, y_sm, test_size = 0.30, random_state = 440)"
      ],
      "execution_count": 9,
      "outputs": []
    },
    {
      "cell_type": "markdown",
      "metadata": {
        "id": "MXdRKSTbqEHs"
      },
      "source": [
        "After using Hyperparameter tunning we found best parameter for Random forest and using on it"
      ]
    },
    {
      "cell_type": "code",
      "metadata": {
        "id": "QAz2LL4jp_hF"
      },
      "source": [
        "RF_model=Pipeline([('scalar3',StandardScaler()),\n",
        "                     ('pca3',PCA()),\n",
        "                     ('rf_classifier',RandomForestClassifier(random_state=42, max_features='auto', n_estimators= 100, max_depth=8, criterion='gini', min_samples_leaf= 15))])"
      ],
      "execution_count": 10,
      "outputs": []
    },
    {
      "cell_type": "code",
      "metadata": {
        "colab": {
          "base_uri": "https://localhost:8080/"
        },
        "id": "bVnJnRp3p_xB",
        "outputId": "1b614c14-aab4-4937-f731-d845e1a9c909"
      },
      "source": [
        "RF_model.fit(x_train, y_train)"
      ],
      "execution_count": 11,
      "outputs": [
        {
          "output_type": "execute_result",
          "data": {
            "text/plain": [
              "Pipeline(memory=None,\n",
              "         steps=[('scalar3',\n",
              "                 StandardScaler(copy=True, with_mean=True, with_std=True)),\n",
              "                ('pca3',\n",
              "                 PCA(copy=True, iterated_power='auto', n_components=None,\n",
              "                     random_state=None, svd_solver='auto', tol=0.0,\n",
              "                     whiten=False)),\n",
              "                ('rf_classifier',\n",
              "                 RandomForestClassifier(bootstrap=True, ccp_alpha=0.0,\n",
              "                                        class_weight=None, criterion='gini',\n",
              "                                        max_depth=8, max_features='auto',\n",
              "                                        max_leaf_nodes=None, max_samples=None,\n",
              "                                        min_impurity_decrease=0.0,\n",
              "                                        min_impurity_split=None,\n",
              "                                        min_samples_leaf=15,\n",
              "                                        min_samples_split=2,\n",
              "                                        min_weight_fraction_leaf=0.0,\n",
              "                                        n_estimators=100, n_jobs=None,\n",
              "                                        oob_score=False, random_state=42,\n",
              "                                        verbose=0, warm_start=False))],\n",
              "         verbose=False)"
            ]
          },
          "metadata": {},
          "execution_count": 11
        }
      ]
    },
    {
      "cell_type": "code",
      "metadata": {
        "id": "GyByiEqzqSJ_"
      },
      "source": [
        "pred=RF_model.predict(x_test)"
      ],
      "execution_count": 12,
      "outputs": []
    },
    {
      "cell_type": "code",
      "metadata": {
        "colab": {
          "base_uri": "https://localhost:8080/"
        },
        "id": "OUNYlQ0zqUZ4",
        "outputId": "1b569486-d001-4fa1-fad8-5a338597590b"
      },
      "source": [
        "print(\"Accuracy for Random Forest on CV data: \",accuracy_score(y_test,pred))"
      ],
      "execution_count": 13,
      "outputs": [
        {
          "output_type": "stream",
          "name": "stdout",
          "text": [
            "Accuracy for Random Forest on CV data:  0.9666803078507215\n"
          ]
        }
      ]
    },
    {
      "cell_type": "code",
      "metadata": {
        "colab": {
          "base_uri": "https://localhost:8080/"
        },
        "id": "IB88H8HGqdoI",
        "outputId": "08582da1-76a0-47c3-fa2b-2fca91e12e35"
      },
      "source": [
        "# Save the Modle to file in the current working directory\n",
        "import pickle\n",
        "Pkl_Filename = \"Model.pkl\"  \n",
        "\n",
        "with open(Pkl_Filename, 'wb') as file:  \n",
        "    pickle.dump(RF_model, file)\n",
        "print(\"RF_model Saved\")"
      ],
      "execution_count": 14,
      "outputs": [
        {
          "output_type": "stream",
          "name": "stdout",
          "text": [
            "RF_model Saved\n"
          ]
        }
      ]
    },
    {
      "cell_type": "markdown",
      "metadata": {
        "id": "h_oNvXPH15wm"
      },
      "source": [
        "# Now we are testing the data"
      ]
    },
    {
      "cell_type": "code",
      "metadata": {
        "colab": {
          "base_uri": "https://localhost:8080/"
        },
        "id": "9Taow7UiuI7E",
        "outputId": "0ab5eb97-c72f-42b2-fb33-abba23bd7910"
      },
      "source": [
        "x_test[7895]"
      ],
      "execution_count": 15,
      "outputs": [
        {
          "output_type": "execute_result",
          "data": {
            "text/plain": [
              "array([-0.39953817, -0.97712131,  1.24544234,  0.94905287,  1.7934207 ,\n",
              "       -0.72105241,  0.71068923, -0.77640272,  1.36614126, -1.42028025,\n",
              "        0.790728  ,  0.89664203, -0.02611889, -0.61222435,  1.12123451,\n",
              "        1.2181234 ,  0.33202657,  0.30275497,  0.838198  ,  0.55880226,\n",
              "        0.35222467,  0.51204671,  1.14737082, -0.18496812, -0.09257469,\n",
              "       -0.5097014 ,  0.79919997,  0.73473953,  0.42037289, -0.29209222])"
            ]
          },
          "metadata": {},
          "execution_count": 15
        }
      ]
    },
    {
      "cell_type": "code",
      "metadata": {
        "colab": {
          "base_uri": "https://localhost:8080/"
        },
        "id": "s67hlhniqeac",
        "outputId": "b215d7b6-997b-4fbe-d41a-a074078a7729"
      },
      "source": [
        "# Load the Model back from file\n",
        "Pkl_Filename = \"Model.pkl\"  \n",
        "with open(Pkl_Filename, 'rb') as file:  \n",
        "  Pickled_RF_model= pickle.load(file)\n",
        "\n",
        "Pickled_RF_model"
      ],
      "execution_count": 16,
      "outputs": [
        {
          "output_type": "execute_result",
          "data": {
            "text/plain": [
              "Pipeline(memory=None,\n",
              "         steps=[('scalar3',\n",
              "                 StandardScaler(copy=True, with_mean=True, with_std=True)),\n",
              "                ('pca3',\n",
              "                 PCA(copy=True, iterated_power='auto', n_components=None,\n",
              "                     random_state=None, svd_solver='auto', tol=0.0,\n",
              "                     whiten=False)),\n",
              "                ('rf_classifier',\n",
              "                 RandomForestClassifier(bootstrap=True, ccp_alpha=0.0,\n",
              "                                        class_weight=None, criterion='gini',\n",
              "                                        max_depth=8, max_features='auto',\n",
              "                                        max_leaf_nodes=None, max_samples=None,\n",
              "                                        min_impurity_decrease=0.0,\n",
              "                                        min_impurity_split=None,\n",
              "                                        min_samples_leaf=15,\n",
              "                                        min_samples_split=2,\n",
              "                                        min_weight_fraction_leaf=0.0,\n",
              "                                        n_estimators=100, n_jobs=None,\n",
              "                                        oob_score=False, random_state=42,\n",
              "                                        verbose=0, warm_start=False))],\n",
              "         verbose=False)"
            ]
          },
          "metadata": {},
          "execution_count": 16
        }
      ]
    },
    {
      "cell_type": "code",
      "metadata": {
        "colab": {
          "base_uri": "https://localhost:8080/"
        },
        "id": "6JQ9NRAfz0oE",
        "outputId": "4d916a97-6814-4f59-8828-16148c53e863"
      },
      "source": [
        "# Use the Reloaded Model to \n",
        "# Calculate the accuracy score and predict target values\n",
        "\n",
        "# Calculate the Score \n",
        "score = Pickled_RF_model.score(x_test, y_test)  \n",
        "# Print the Score\n",
        "print(\"Test score: {0:.2f} %\".format(100 * score))  \n",
        "\n",
        "# Predict the Labels using the reloaded Model\n",
        "Ypredict = Pickled_RF_model.predict(x_test)  \n",
        "\n",
        "Ypredict"
      ],
      "execution_count": 17,
      "outputs": [
        {
          "output_type": "stream",
          "name": "stdout",
          "text": [
            "Test score: 96.67 %\n"
          ]
        },
        {
          "output_type": "execute_result",
          "data": {
            "text/plain": [
              "array([0, 0, 0, ..., 1, 0, 1])"
            ]
          },
          "metadata": {},
          "execution_count": 17
        }
      ]
    },
    {
      "cell_type": "code",
      "metadata": {
        "id": "35yMeZMsz_2z"
      },
      "source": [
        "#predict the data using only one row\n",
        "\n",
        "features= np.array([-0.39953817, -0.97712131,  1.24544234,  0.94905287,  1.7934207 ,\n",
        "       -0.72105241,  0.71068923, -0.77640272,  1.36614126, -1.42028025,\n",
        "        0.790728  ,  0.89664203, -0.02611889, -0.61222435,  1.12123451,\n",
        "        1.2181234 ,  0.33202657,  0.30275497,  0.838198  ,  0.55880226,\n",
        "        0.35222467,  0.51204671,  1.14737082, -0.18496812, -0.09257469,\n",
        "       -0.5097014 ,  0.79919997,  0.73473953,  0.42037289, -0.29209222])"
      ],
      "execution_count": 20,
      "outputs": []
    },
    {
      "cell_type": "code",
      "metadata": {
        "colab": {
          "base_uri": "https://localhost:8080/"
        },
        "id": "gdwcmZEd0FtG",
        "outputId": "fe0ebdaa-f8f6-40db-e5fb-7415848934de"
      },
      "source": [
        "Ypredict = Pickled_RF_model.predict([features])  \n",
        "\n",
        "Ypredict"
      ],
      "execution_count": 21,
      "outputs": [
        {
          "output_type": "execute_result",
          "data": {
            "text/plain": [
              "array([0])"
            ]
          },
          "metadata": {},
          "execution_count": 21
        }
      ]
    }
  ]
}