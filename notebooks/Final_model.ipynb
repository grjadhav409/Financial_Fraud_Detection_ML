{
  "cells": [
    {
      "cell_type": "code",
      "execution_count": 2,
      "metadata": {
        "id": "4-5Tv363pgEH"
      },
      "outputs": [],
      "source": [
        "from sklearn.preprocessing import StandardScaler\n",
        "from sklearn.pipeline import Pipeline, make_pipeline\n",
        "from sklearn.naive_bayes import GaussianNB\n",
        "from sklearn.decomposition import PCA\n",
        "from sklearn.linear_model import LogisticRegression\n",
        "from sklearn.ensemble import GradientBoostingClassifier,RandomForestClassifier,AdaBoostClassifier\n",
        "from sklearn.tree import DecisionTreeClassifier\n",
        "from sklearn.neighbors import KNeighborsClassifier\n",
        "from sklearn.metrics import classification_report, confusion_matrix,accuracy_score,roc_curve,auc, roc_auc_score\n",
        "from sklearn.model_selection import GridSearchCV, cross_val_score\n",
        "from sklearn.metrics import precision_score, recall_score, precision_recall_fscore_support\n",
        "from sklearn.metrics import f1_score,precision_recall_curve\n",
        "import pandas as pd\n",
        "import numpy as np\n",
        "import os\n",
        "import matplotlib.pyplot as plt\n",
        "%matplotlib inline\n",
        "import seaborn as sns\n",
        "import warnings\n",
        "warnings.filterwarnings('ignore')"
      ]
    },
    {
      "cell_type": "code",
      "execution_count": 3,
      "metadata": {
        "id": "HYQmKwVEpnL2"
      },
      "outputs": [],
      "source": [
        "credit_data= pd.read_csv(\"/Users/ganeshjadhav/Desktop/ML_Projects/LiveClass/Notebooks2/CreditCardData.csv\")"
      ]
    },
    {
      "cell_type": "code",
      "execution_count": 4,
      "metadata": {},
      "outputs": [
        {
          "data": {
            "text/html": [
              "<div>\n",
              "<style scoped>\n",
              "    .dataframe tbody tr th:only-of-type {\n",
              "        vertical-align: middle;\n",
              "    }\n",
              "\n",
              "    .dataframe tbody tr th {\n",
              "        vertical-align: top;\n",
              "    }\n",
              "\n",
              "    .dataframe thead th {\n",
              "        text-align: right;\n",
              "    }\n",
              "</style>\n",
              "<table border=\"1\" class=\"dataframe\">\n",
              "  <thead>\n",
              "    <tr style=\"text-align: right;\">\n",
              "      <th></th>\n",
              "      <th>Time</th>\n",
              "      <th>V1</th>\n",
              "      <th>V2</th>\n",
              "      <th>V3</th>\n",
              "      <th>V4</th>\n",
              "      <th>V5</th>\n",
              "      <th>V6</th>\n",
              "      <th>V7</th>\n",
              "      <th>V8</th>\n",
              "      <th>V9</th>\n",
              "      <th>...</th>\n",
              "      <th>V21</th>\n",
              "      <th>V22</th>\n",
              "      <th>V23</th>\n",
              "      <th>V24</th>\n",
              "      <th>V25</th>\n",
              "      <th>V26</th>\n",
              "      <th>V27</th>\n",
              "      <th>V28</th>\n",
              "      <th>Amount</th>\n",
              "      <th>Class</th>\n",
              "    </tr>\n",
              "  </thead>\n",
              "  <tbody>\n",
              "    <tr>\n",
              "      <th>0</th>\n",
              "      <td>406.0</td>\n",
              "      <td>-2.312227</td>\n",
              "      <td>1.951992</td>\n",
              "      <td>-1.609851</td>\n",
              "      <td>3.997906</td>\n",
              "      <td>-0.522188</td>\n",
              "      <td>-1.426545</td>\n",
              "      <td>-2.537387</td>\n",
              "      <td>1.391657</td>\n",
              "      <td>-2.770089</td>\n",
              "      <td>...</td>\n",
              "      <td>0.517232</td>\n",
              "      <td>-0.035049</td>\n",
              "      <td>-0.465211</td>\n",
              "      <td>0.320198</td>\n",
              "      <td>0.044519</td>\n",
              "      <td>0.177840</td>\n",
              "      <td>0.261145</td>\n",
              "      <td>-0.143276</td>\n",
              "      <td>0.00</td>\n",
              "      <td>1</td>\n",
              "    </tr>\n",
              "    <tr>\n",
              "      <th>1</th>\n",
              "      <td>472.0</td>\n",
              "      <td>-3.043541</td>\n",
              "      <td>-3.157307</td>\n",
              "      <td>1.088463</td>\n",
              "      <td>2.288644</td>\n",
              "      <td>1.359805</td>\n",
              "      <td>-1.064823</td>\n",
              "      <td>0.325574</td>\n",
              "      <td>-0.067794</td>\n",
              "      <td>-0.270953</td>\n",
              "      <td>...</td>\n",
              "      <td>0.661696</td>\n",
              "      <td>0.435477</td>\n",
              "      <td>1.375966</td>\n",
              "      <td>-0.293803</td>\n",
              "      <td>0.279798</td>\n",
              "      <td>-0.145362</td>\n",
              "      <td>-0.252773</td>\n",
              "      <td>0.035764</td>\n",
              "      <td>529.00</td>\n",
              "      <td>1</td>\n",
              "    </tr>\n",
              "    <tr>\n",
              "      <th>2</th>\n",
              "      <td>4462.0</td>\n",
              "      <td>-2.303350</td>\n",
              "      <td>1.759247</td>\n",
              "      <td>-0.359745</td>\n",
              "      <td>2.330243</td>\n",
              "      <td>-0.821628</td>\n",
              "      <td>-0.075788</td>\n",
              "      <td>0.562320</td>\n",
              "      <td>-0.399147</td>\n",
              "      <td>-0.238253</td>\n",
              "      <td>...</td>\n",
              "      <td>-0.294166</td>\n",
              "      <td>-0.932391</td>\n",
              "      <td>0.172726</td>\n",
              "      <td>-0.087330</td>\n",
              "      <td>-0.156114</td>\n",
              "      <td>-0.542628</td>\n",
              "      <td>0.039566</td>\n",
              "      <td>-0.153029</td>\n",
              "      <td>239.93</td>\n",
              "      <td>1</td>\n",
              "    </tr>\n",
              "    <tr>\n",
              "      <th>3</th>\n",
              "      <td>6986.0</td>\n",
              "      <td>-4.397974</td>\n",
              "      <td>1.358367</td>\n",
              "      <td>-2.592844</td>\n",
              "      <td>2.679787</td>\n",
              "      <td>-1.128131</td>\n",
              "      <td>-1.706536</td>\n",
              "      <td>-3.496197</td>\n",
              "      <td>-0.248778</td>\n",
              "      <td>-0.247768</td>\n",
              "      <td>...</td>\n",
              "      <td>0.573574</td>\n",
              "      <td>0.176968</td>\n",
              "      <td>-0.436207</td>\n",
              "      <td>-0.053502</td>\n",
              "      <td>0.252405</td>\n",
              "      <td>-0.657488</td>\n",
              "      <td>-0.827136</td>\n",
              "      <td>0.849573</td>\n",
              "      <td>59.00</td>\n",
              "      <td>1</td>\n",
              "    </tr>\n",
              "    <tr>\n",
              "      <th>4</th>\n",
              "      <td>7519.0</td>\n",
              "      <td>1.234235</td>\n",
              "      <td>3.019740</td>\n",
              "      <td>-4.304597</td>\n",
              "      <td>4.732795</td>\n",
              "      <td>3.624201</td>\n",
              "      <td>-1.357746</td>\n",
              "      <td>1.713445</td>\n",
              "      <td>-0.496358</td>\n",
              "      <td>-1.282858</td>\n",
              "      <td>...</td>\n",
              "      <td>-0.379068</td>\n",
              "      <td>-0.704181</td>\n",
              "      <td>-0.656805</td>\n",
              "      <td>-1.632653</td>\n",
              "      <td>1.488901</td>\n",
              "      <td>0.566797</td>\n",
              "      <td>-0.010016</td>\n",
              "      <td>0.146793</td>\n",
              "      <td>1.00</td>\n",
              "      <td>1</td>\n",
              "    </tr>\n",
              "  </tbody>\n",
              "</table>\n",
              "<p>5 rows × 31 columns</p>\n",
              "</div>"
            ],
            "text/plain": [
              "     Time        V1        V2        V3        V4        V5        V6  \\\n",
              "0   406.0 -2.312227  1.951992 -1.609851  3.997906 -0.522188 -1.426545   \n",
              "1   472.0 -3.043541 -3.157307  1.088463  2.288644  1.359805 -1.064823   \n",
              "2  4462.0 -2.303350  1.759247 -0.359745  2.330243 -0.821628 -0.075788   \n",
              "3  6986.0 -4.397974  1.358367 -2.592844  2.679787 -1.128131 -1.706536   \n",
              "4  7519.0  1.234235  3.019740 -4.304597  4.732795  3.624201 -1.357746   \n",
              "\n",
              "         V7        V8        V9  ...       V21       V22       V23       V24  \\\n",
              "0 -2.537387  1.391657 -2.770089  ...  0.517232 -0.035049 -0.465211  0.320198   \n",
              "1  0.325574 -0.067794 -0.270953  ...  0.661696  0.435477  1.375966 -0.293803   \n",
              "2  0.562320 -0.399147 -0.238253  ... -0.294166 -0.932391  0.172726 -0.087330   \n",
              "3 -3.496197 -0.248778 -0.247768  ...  0.573574  0.176968 -0.436207 -0.053502   \n",
              "4  1.713445 -0.496358 -1.282858  ... -0.379068 -0.704181 -0.656805 -1.632653   \n",
              "\n",
              "        V25       V26       V27       V28  Amount  Class  \n",
              "0  0.044519  0.177840  0.261145 -0.143276    0.00      1  \n",
              "1  0.279798 -0.145362 -0.252773  0.035764  529.00      1  \n",
              "2 -0.156114 -0.542628  0.039566 -0.153029  239.93      1  \n",
              "3  0.252405 -0.657488 -0.827136  0.849573   59.00      1  \n",
              "4  1.488901  0.566797 -0.010016  0.146793    1.00      1  \n",
              "\n",
              "[5 rows x 31 columns]"
            ]
          },
          "execution_count": 4,
          "metadata": {},
          "output_type": "execute_result"
        }
      ],
      "source": [
        "credit_data.head()"
      ]
    },
    {
      "cell_type": "code",
      "execution_count": 3,
      "metadata": {
        "colab": {
          "base_uri": "https://localhost:8080/"
        },
        "id": "SSo24_fmlJLl",
        "outputId": "a8bd49af-2d87-47e4-e03d-9a3042699a7d"
      },
      "outputs": [
        {
          "data": {
            "text/plain": [
              "(10492, 31)"
            ]
          },
          "execution_count": 3,
          "metadata": {},
          "output_type": "execute_result"
        }
      ],
      "source": [
        "credit_data.shape"
      ]
    },
    {
      "cell_type": "code",
      "execution_count": 5,
      "metadata": {
        "id": "9_Dy5pBlpvmR"
      },
      "outputs": [],
      "source": [
        "X= credit_data.drop('Class', axis= 1)\n",
        "y= credit_data['Class']"
      ]
    },
    {
      "cell_type": "code",
      "execution_count": 6,
      "metadata": {
        "id": "acGod2HCp1-q"
      },
      "outputs": [],
      "source": [
        "#Feature EngineeringPowerTransformer\n",
        "from sklearn.preprocessing import PowerTransformer\n",
        "power = PowerTransformer(method='yeo-johnson', standardize=True)\n",
        "df = power.fit_transform(X)"
      ]
    },
    {
      "cell_type": "code",
      "execution_count": 9,
      "metadata": {},
      "outputs": [
        {
          "data": {
            "text/html": [
              "<div>\n",
              "<style scoped>\n",
              "    .dataframe tbody tr th:only-of-type {\n",
              "        vertical-align: middle;\n",
              "    }\n",
              "\n",
              "    .dataframe tbody tr th {\n",
              "        vertical-align: top;\n",
              "    }\n",
              "\n",
              "    .dataframe thead th {\n",
              "        text-align: right;\n",
              "    }\n",
              "</style>\n",
              "<table border=\"1\" class=\"dataframe\">\n",
              "  <thead>\n",
              "    <tr style=\"text-align: right;\">\n",
              "      <th></th>\n",
              "      <th>0</th>\n",
              "      <th>1</th>\n",
              "      <th>2</th>\n",
              "      <th>3</th>\n",
              "      <th>4</th>\n",
              "      <th>5</th>\n",
              "      <th>6</th>\n",
              "      <th>7</th>\n",
              "      <th>8</th>\n",
              "      <th>9</th>\n",
              "      <th>...</th>\n",
              "      <th>20</th>\n",
              "      <th>21</th>\n",
              "      <th>22</th>\n",
              "      <th>23</th>\n",
              "      <th>24</th>\n",
              "      <th>25</th>\n",
              "      <th>26</th>\n",
              "      <th>27</th>\n",
              "      <th>28</th>\n",
              "      <th>29</th>\n",
              "    </tr>\n",
              "  </thead>\n",
              "  <tbody>\n",
              "    <tr>\n",
              "      <th>0</th>\n",
              "      <td>-2.412968</td>\n",
              "      <td>-1.098091</td>\n",
              "      <td>0.899669</td>\n",
              "      <td>-0.853623</td>\n",
              "      <td>1.828163</td>\n",
              "      <td>-0.294664</td>\n",
              "      <td>-1.029474</td>\n",
              "      <td>-1.209057</td>\n",
              "      <td>0.825528</td>\n",
              "      <td>-1.884694</td>\n",
              "      <td>...</td>\n",
              "      <td>0.135883</td>\n",
              "      <td>0.476663</td>\n",
              "      <td>-0.072812</td>\n",
              "      <td>-0.717845</td>\n",
              "      <td>0.492346</td>\n",
              "      <td>0.058854</td>\n",
              "      <td>0.449719</td>\n",
              "      <td>0.509067</td>\n",
              "      <td>-0.435869</td>\n",
              "      <td>-1.934999</td>\n",
              "    </tr>\n",
              "    <tr>\n",
              "      <th>1</th>\n",
              "      <td>-2.408147</td>\n",
              "      <td>-1.285209</td>\n",
              "      <td>-1.702840</td>\n",
              "      <td>0.722170</td>\n",
              "      <td>1.177573</td>\n",
              "      <td>0.853147</td>\n",
              "      <td>-0.714194</td>\n",
              "      <td>0.210144</td>\n",
              "      <td>-0.103058</td>\n",
              "      <td>-0.179657</td>\n",
              "      <td>...</td>\n",
              "      <td>2.682045</td>\n",
              "      <td>0.607316</td>\n",
              "      <td>0.551213</td>\n",
              "      <td>2.114744</td>\n",
              "      <td>-0.537478</td>\n",
              "      <td>0.507892</td>\n",
              "      <td>-0.230038</td>\n",
              "      <td>-0.568440</td>\n",
              "      <td>0.102236</td>\n",
              "      <td>1.781138</td>\n",
              "    </tr>\n",
              "    <tr>\n",
              "      <th>2</th>\n",
              "      <td>-2.206409</td>\n",
              "      <td>-1.095674</td>\n",
              "      <td>0.803819</td>\n",
              "      <td>-0.338749</td>\n",
              "      <td>1.194679</td>\n",
              "      <td>-0.452218</td>\n",
              "      <td>0.081214</td>\n",
              "      <td>0.382627</td>\n",
              "      <td>-0.293461</td>\n",
              "      <td>-0.155193</td>\n",
              "      <td>...</td>\n",
              "      <td>-0.578592</td>\n",
              "      <td>-0.290255</td>\n",
              "      <td>-1.205767</td>\n",
              "      <td>0.259359</td>\n",
              "      <td>-0.213109</td>\n",
              "      <td>-0.311609</td>\n",
              "      <td>-1.199464</td>\n",
              "      <td>0.033041</td>\n",
              "      <td>-0.465388</td>\n",
              "      <td>1.366695</td>\n",
              "    </tr>\n",
              "    <tr>\n",
              "      <th>3</th>\n",
              "      <td>-2.106188</td>\n",
              "      <td>-1.583982</td>\n",
              "      <td>0.604075</td>\n",
              "      <td>-1.159258</td>\n",
              "      <td>1.335503</td>\n",
              "      <td>-0.608697</td>\n",
              "      <td>-1.280729</td>\n",
              "      <td>-1.561190</td>\n",
              "      <td>-0.207996</td>\n",
              "      <td>-0.162321</td>\n",
              "      <td>...</td>\n",
              "      <td>-0.247317</td>\n",
              "      <td>0.527786</td>\n",
              "      <td>0.205651</td>\n",
              "      <td>-0.673522</td>\n",
              "      <td>-0.157999</td>\n",
              "      <td>0.454860</td>\n",
              "      <td>-1.504713</td>\n",
              "      <td>-1.681716</td>\n",
              "      <td>2.469461</td>\n",
              "      <td>0.601185</td>\n",
              "    </tr>\n",
              "    <tr>\n",
              "      <th>4</th>\n",
              "      <td>-2.086232</td>\n",
              "      <td>0.675519</td>\n",
              "      <td>1.428808</td>\n",
              "      <td>-1.588434</td>\n",
              "      <td>2.082262</td>\n",
              "      <td>2.487024</td>\n",
              "      <td>-0.968668</td>\n",
              "      <td>1.357609</td>\n",
              "      <td>-0.347980</td>\n",
              "      <td>-0.901690</td>\n",
              "      <td>...</td>\n",
              "      <td>-0.015470</td>\n",
              "      <td>-0.374208</td>\n",
              "      <td>-0.923202</td>\n",
              "      <td>-1.010422</td>\n",
              "      <td>-2.321570</td>\n",
              "      <td>3.000477</td>\n",
              "      <td>1.157730</td>\n",
              "      <td>-0.071090</td>\n",
              "      <td>0.432211</td>\n",
              "      <td>-1.474016</td>\n",
              "    </tr>\n",
              "    <tr>\n",
              "      <th>...</th>\n",
              "      <td>...</td>\n",
              "      <td>...</td>\n",
              "      <td>...</td>\n",
              "      <td>...</td>\n",
              "      <td>...</td>\n",
              "      <td>...</td>\n",
              "      <td>...</td>\n",
              "      <td>...</td>\n",
              "      <td>...</td>\n",
              "      <td>...</td>\n",
              "      <td>...</td>\n",
              "      <td>...</td>\n",
              "      <td>...</td>\n",
              "      <td>...</td>\n",
              "      <td>...</td>\n",
              "      <td>...</td>\n",
              "      <td>...</td>\n",
              "      <td>...</td>\n",
              "      <td>...</td>\n",
              "      <td>...</td>\n",
              "      <td>...</td>\n",
              "    </tr>\n",
              "    <tr>\n",
              "      <th>10487</th>\n",
              "      <td>0.971580</td>\n",
              "      <td>-0.595641</td>\n",
              "      <td>0.872454</td>\n",
              "      <td>1.618755</td>\n",
              "      <td>1.896304</td>\n",
              "      <td>0.055139</td>\n",
              "      <td>1.037124</td>\n",
              "      <td>-0.135495</td>\n",
              "      <td>0.433981</td>\n",
              "      <td>-1.350997</td>\n",
              "      <td>...</td>\n",
              "      <td>0.349773</td>\n",
              "      <td>-0.215144</td>\n",
              "      <td>-0.842067</td>\n",
              "      <td>-0.153337</td>\n",
              "      <td>0.673197</td>\n",
              "      <td>-0.021748</td>\n",
              "      <td>0.482237</td>\n",
              "      <td>0.455009</td>\n",
              "      <td>0.312784</td>\n",
              "      <td>-1.558014</td>\n",
              "    </tr>\n",
              "    <tr>\n",
              "      <th>10488</th>\n",
              "      <td>1.130041</td>\n",
              "      <td>-0.394485</td>\n",
              "      <td>0.464991</td>\n",
              "      <td>-0.408239</td>\n",
              "      <td>-0.345834</td>\n",
              "      <td>0.854739</td>\n",
              "      <td>-0.043752</td>\n",
              "      <td>0.780125</td>\n",
              "      <td>-0.096067</td>\n",
              "      <td>0.045526</td>\n",
              "      <td>...</td>\n",
              "      <td>0.202601</td>\n",
              "      <td>-0.012917</td>\n",
              "      <td>0.352860</td>\n",
              "      <td>-0.469015</td>\n",
              "      <td>-0.111485</td>\n",
              "      <td>-0.093144</td>\n",
              "      <td>1.194766</td>\n",
              "      <td>0.746589</td>\n",
              "      <td>0.784790</td>\n",
              "      <td>0.140366</td>\n",
              "    </tr>\n",
              "    <tr>\n",
              "      <th>10489</th>\n",
              "      <td>1.320575</td>\n",
              "      <td>1.579636</td>\n",
              "      <td>-0.523659</td>\n",
              "      <td>-0.862573</td>\n",
              "      <td>-0.824658</td>\n",
              "      <td>-0.047469</td>\n",
              "      <td>-0.176529</td>\n",
              "      <td>-0.181182</td>\n",
              "      <td>-0.193461</td>\n",
              "      <td>-0.547899</td>\n",
              "      <td>...</td>\n",
              "      <td>0.182677</td>\n",
              "      <td>-0.037801</td>\n",
              "      <td>-0.366058</td>\n",
              "      <td>0.134114</td>\n",
              "      <td>-1.656662</td>\n",
              "      <td>-0.205949</td>\n",
              "      <td>-0.804814</td>\n",
              "      <td>-0.146908</td>\n",
              "      <td>-0.201816</td>\n",
              "      <td>0.719891</td>\n",
              "    </tr>\n",
              "    <tr>\n",
              "      <th>10490</th>\n",
              "      <td>-0.894436</td>\n",
              "      <td>0.580196</td>\n",
              "      <td>-0.018384</td>\n",
              "      <td>0.089698</td>\n",
              "      <td>0.395325</td>\n",
              "      <td>-0.206876</td>\n",
              "      <td>-0.183649</td>\n",
              "      <td>-0.106954</td>\n",
              "      <td>0.021621</td>\n",
              "      <td>-0.007147</td>\n",
              "      <td>...</td>\n",
              "      <td>-0.239038</td>\n",
              "      <td>-0.199639</td>\n",
              "      <td>-0.897070</td>\n",
              "      <td>0.263033</td>\n",
              "      <td>0.183323</td>\n",
              "      <td>0.041773</td>\n",
              "      <td>0.289038</td>\n",
              "      <td>-0.095300</td>\n",
              "      <td>0.051810</td>\n",
              "      <td>-0.133864</td>\n",
              "    </tr>\n",
              "    <tr>\n",
              "      <th>10491</th>\n",
              "      <td>0.903519</td>\n",
              "      <td>-0.192667</td>\n",
              "      <td>0.283514</td>\n",
              "      <td>-0.231721</td>\n",
              "      <td>-0.636500</td>\n",
              "      <td>0.544346</td>\n",
              "      <td>-0.017566</td>\n",
              "      <td>0.575610</td>\n",
              "      <td>-0.021123</td>\n",
              "      <td>-0.024211</td>\n",
              "      <td>...</td>\n",
              "      <td>-0.112747</td>\n",
              "      <td>-0.289733</td>\n",
              "      <td>-0.975793</td>\n",
              "      <td>-0.109417</td>\n",
              "      <td>-1.706357</td>\n",
              "      <td>-0.770498</td>\n",
              "      <td>0.476392</td>\n",
              "      <td>0.453166</td>\n",
              "      <td>0.215399</td>\n",
              "      <td>-1.259724</td>\n",
              "    </tr>\n",
              "  </tbody>\n",
              "</table>\n",
              "<p>10492 rows × 30 columns</p>\n",
              "</div>"
            ],
            "text/plain": [
              "             0         1         2         3         4         5         6   \\\n",
              "0     -2.412968 -1.098091  0.899669 -0.853623  1.828163 -0.294664 -1.029474   \n",
              "1     -2.408147 -1.285209 -1.702840  0.722170  1.177573  0.853147 -0.714194   \n",
              "2     -2.206409 -1.095674  0.803819 -0.338749  1.194679 -0.452218  0.081214   \n",
              "3     -2.106188 -1.583982  0.604075 -1.159258  1.335503 -0.608697 -1.280729   \n",
              "4     -2.086232  0.675519  1.428808 -1.588434  2.082262  2.487024 -0.968668   \n",
              "...         ...       ...       ...       ...       ...       ...       ...   \n",
              "10487  0.971580 -0.595641  0.872454  1.618755  1.896304  0.055139  1.037124   \n",
              "10488  1.130041 -0.394485  0.464991 -0.408239 -0.345834  0.854739 -0.043752   \n",
              "10489  1.320575  1.579636 -0.523659 -0.862573 -0.824658 -0.047469 -0.176529   \n",
              "10490 -0.894436  0.580196 -0.018384  0.089698  0.395325 -0.206876 -0.183649   \n",
              "10491  0.903519 -0.192667  0.283514 -0.231721 -0.636500  0.544346 -0.017566   \n",
              "\n",
              "             7         8         9   ...        20        21        22  \\\n",
              "0     -1.209057  0.825528 -1.884694  ...  0.135883  0.476663 -0.072812   \n",
              "1      0.210144 -0.103058 -0.179657  ...  2.682045  0.607316  0.551213   \n",
              "2      0.382627 -0.293461 -0.155193  ... -0.578592 -0.290255 -1.205767   \n",
              "3     -1.561190 -0.207996 -0.162321  ... -0.247317  0.527786  0.205651   \n",
              "4      1.357609 -0.347980 -0.901690  ... -0.015470 -0.374208 -0.923202   \n",
              "...         ...       ...       ...  ...       ...       ...       ...   \n",
              "10487 -0.135495  0.433981 -1.350997  ...  0.349773 -0.215144 -0.842067   \n",
              "10488  0.780125 -0.096067  0.045526  ...  0.202601 -0.012917  0.352860   \n",
              "10489 -0.181182 -0.193461 -0.547899  ...  0.182677 -0.037801 -0.366058   \n",
              "10490 -0.106954  0.021621 -0.007147  ... -0.239038 -0.199639 -0.897070   \n",
              "10491  0.575610 -0.021123 -0.024211  ... -0.112747 -0.289733 -0.975793   \n",
              "\n",
              "             23        24        25        26        27        28        29  \n",
              "0     -0.717845  0.492346  0.058854  0.449719  0.509067 -0.435869 -1.934999  \n",
              "1      2.114744 -0.537478  0.507892 -0.230038 -0.568440  0.102236  1.781138  \n",
              "2      0.259359 -0.213109 -0.311609 -1.199464  0.033041 -0.465388  1.366695  \n",
              "3     -0.673522 -0.157999  0.454860 -1.504713 -1.681716  2.469461  0.601185  \n",
              "4     -1.010422 -2.321570  3.000477  1.157730 -0.071090  0.432211 -1.474016  \n",
              "...         ...       ...       ...       ...       ...       ...       ...  \n",
              "10487 -0.153337  0.673197 -0.021748  0.482237  0.455009  0.312784 -1.558014  \n",
              "10488 -0.469015 -0.111485 -0.093144  1.194766  0.746589  0.784790  0.140366  \n",
              "10489  0.134114 -1.656662 -0.205949 -0.804814 -0.146908 -0.201816  0.719891  \n",
              "10490  0.263033  0.183323  0.041773  0.289038 -0.095300  0.051810 -0.133864  \n",
              "10491 -0.109417 -1.706357 -0.770498  0.476392  0.453166  0.215399 -1.259724  \n",
              "\n",
              "[10492 rows x 30 columns]"
            ]
          },
          "execution_count": 9,
          "metadata": {},
          "output_type": "execute_result"
        }
      ],
      "source": [
        "pd.DataFrame(df)"
      ]
    },
    {
      "cell_type": "code",
      "execution_count": 6,
      "metadata": {
        "colab": {
          "base_uri": "https://localhost:8080/"
        },
        "id": "LccYCrh1p8bl",
        "outputId": "9a2e9b02-2fb9-40ea-fdd2-c8fc73cc30ff"
      },
      "outputs": [
        {
          "name": "stdout",
          "output_type": "stream",
          "text": [
            "Resampled dataset shape Counter({1: 10000, 0: 10000})\n",
            "Before Resampled dataset shape Counter({0: 10000, 1: 492})\n"
          ]
        }
      ],
      "source": [
        "df= pd.DataFrame(data= df, columns= X.columns)\n",
        "from imblearn.over_sampling import SMOTE\n",
        "from collections import Counter\n",
        "smt = SMOTE(random_state=2425, n_jobs=-1,sampling_strategy='auto', k_neighbors=5)\n",
        "X_sm, y_sm = smt.fit_resample(df, y)\n",
        "print('Resampled dataset shape {}'.format(Counter(y_sm)))\n",
        "print('Before Resampled dataset shape {}'.format(Counter(y)))"
      ]
    },
    {
      "cell_type": "code",
      "execution_count": 7,
      "metadata": {
        "id": "zq5eLtegp862"
      },
      "outputs": [],
      "source": [
        "from sklearn.model_selection import train_test_split\n",
        "\n",
        "x_train, x_test, y_train, y_test = train_test_split(X_sm, y_sm, test_size = 0.30, random_state = 440)"
      ]
    },
    {
      "cell_type": "markdown",
      "metadata": {
        "id": "MXdRKSTbqEHs"
      },
      "source": [
        "After using Hyperparameter tunning we found best parameter for Random forest and using on it"
      ]
    },
    {
      "cell_type": "code",
      "execution_count": 8,
      "metadata": {
        "id": "QAz2LL4jp_hF"
      },
      "outputs": [],
      "source": [
        "RF_model=Pipeline([('scalar3',StandardScaler()),\n",
        "                     ('pca3',PCA()),\n",
        "                     ('rf_classifier',RandomForestClassifier(random_state=42, max_features='auto', n_estimators= 100, max_depth=8, criterion='gini', min_samples_leaf= 15))])"
      ]
    },
    {
      "cell_type": "code",
      "execution_count": 9,
      "metadata": {
        "colab": {
          "base_uri": "https://localhost:8080/"
        },
        "id": "bVnJnRp3p_xB",
        "outputId": "1b614c14-aab4-4937-f731-d845e1a9c909"
      },
      "outputs": [
        {
          "data": {
            "text/html": [
              "<style>#sk-container-id-1 {color: black;background-color: white;}#sk-container-id-1 pre{padding: 0;}#sk-container-id-1 div.sk-toggleable {background-color: white;}#sk-container-id-1 label.sk-toggleable__label {cursor: pointer;display: block;width: 100%;margin-bottom: 0;padding: 0.3em;box-sizing: border-box;text-align: center;}#sk-container-id-1 label.sk-toggleable__label-arrow:before {content: \"▸\";float: left;margin-right: 0.25em;color: #696969;}#sk-container-id-1 label.sk-toggleable__label-arrow:hover:before {color: black;}#sk-container-id-1 div.sk-estimator:hover label.sk-toggleable__label-arrow:before {color: black;}#sk-container-id-1 div.sk-toggleable__content {max-height: 0;max-width: 0;overflow: hidden;text-align: left;background-color: #f0f8ff;}#sk-container-id-1 div.sk-toggleable__content pre {margin: 0.2em;color: black;border-radius: 0.25em;background-color: #f0f8ff;}#sk-container-id-1 input.sk-toggleable__control:checked~div.sk-toggleable__content {max-height: 200px;max-width: 100%;overflow: auto;}#sk-container-id-1 input.sk-toggleable__control:checked~label.sk-toggleable__label-arrow:before {content: \"▾\";}#sk-container-id-1 div.sk-estimator input.sk-toggleable__control:checked~label.sk-toggleable__label {background-color: #d4ebff;}#sk-container-id-1 div.sk-label input.sk-toggleable__control:checked~label.sk-toggleable__label {background-color: #d4ebff;}#sk-container-id-1 input.sk-hidden--visually {border: 0;clip: rect(1px 1px 1px 1px);clip: rect(1px, 1px, 1px, 1px);height: 1px;margin: -1px;overflow: hidden;padding: 0;position: absolute;width: 1px;}#sk-container-id-1 div.sk-estimator {font-family: monospace;background-color: #f0f8ff;border: 1px dotted black;border-radius: 0.25em;box-sizing: border-box;margin-bottom: 0.5em;}#sk-container-id-1 div.sk-estimator:hover {background-color: #d4ebff;}#sk-container-id-1 div.sk-parallel-item::after {content: \"\";width: 100%;border-bottom: 1px solid gray;flex-grow: 1;}#sk-container-id-1 div.sk-label:hover label.sk-toggleable__label {background-color: #d4ebff;}#sk-container-id-1 div.sk-serial::before {content: \"\";position: absolute;border-left: 1px solid gray;box-sizing: border-box;top: 0;bottom: 0;left: 50%;z-index: 0;}#sk-container-id-1 div.sk-serial {display: flex;flex-direction: column;align-items: center;background-color: white;padding-right: 0.2em;padding-left: 0.2em;position: relative;}#sk-container-id-1 div.sk-item {position: relative;z-index: 1;}#sk-container-id-1 div.sk-parallel {display: flex;align-items: stretch;justify-content: center;background-color: white;position: relative;}#sk-container-id-1 div.sk-item::before, #sk-container-id-1 div.sk-parallel-item::before {content: \"\";position: absolute;border-left: 1px solid gray;box-sizing: border-box;top: 0;bottom: 0;left: 50%;z-index: -1;}#sk-container-id-1 div.sk-parallel-item {display: flex;flex-direction: column;z-index: 1;position: relative;background-color: white;}#sk-container-id-1 div.sk-parallel-item:first-child::after {align-self: flex-end;width: 50%;}#sk-container-id-1 div.sk-parallel-item:last-child::after {align-self: flex-start;width: 50%;}#sk-container-id-1 div.sk-parallel-item:only-child::after {width: 0;}#sk-container-id-1 div.sk-dashed-wrapped {border: 1px dashed gray;margin: 0 0.4em 0.5em 0.4em;box-sizing: border-box;padding-bottom: 0.4em;background-color: white;}#sk-container-id-1 div.sk-label label {font-family: monospace;font-weight: bold;display: inline-block;line-height: 1.2em;}#sk-container-id-1 div.sk-label-container {text-align: center;}#sk-container-id-1 div.sk-container {/* jupyter's `normalize.less` sets `[hidden] { display: none; }` but bootstrap.min.css set `[hidden] { display: none !important; }` so we also need the `!important` here to be able to override the default hidden behavior on the sphinx rendered scikit-learn.org. See: https://github.com/scikit-learn/scikit-learn/issues/21755 */display: inline-block !important;position: relative;}#sk-container-id-1 div.sk-text-repr-fallback {display: none;}</style><div id=\"sk-container-id-1\" class=\"sk-top-container\"><div class=\"sk-text-repr-fallback\"><pre>Pipeline(steps=[(&#x27;scalar3&#x27;, StandardScaler()), (&#x27;pca3&#x27;, PCA()),\n",
              "                (&#x27;rf_classifier&#x27;,\n",
              "                 RandomForestClassifier(max_depth=8, max_features=&#x27;auto&#x27;,\n",
              "                                        min_samples_leaf=15,\n",
              "                                        random_state=42))])</pre><b>In a Jupyter environment, please rerun this cell to show the HTML representation or trust the notebook. <br />On GitHub, the HTML representation is unable to render, please try loading this page with nbviewer.org.</b></div><div class=\"sk-container\" hidden><div class=\"sk-item sk-dashed-wrapped\"><div class=\"sk-label-container\"><div class=\"sk-label sk-toggleable\"><input class=\"sk-toggleable__control sk-hidden--visually\" id=\"sk-estimator-id-1\" type=\"checkbox\" ><label for=\"sk-estimator-id-1\" class=\"sk-toggleable__label sk-toggleable__label-arrow\">Pipeline</label><div class=\"sk-toggleable__content\"><pre>Pipeline(steps=[(&#x27;scalar3&#x27;, StandardScaler()), (&#x27;pca3&#x27;, PCA()),\n",
              "                (&#x27;rf_classifier&#x27;,\n",
              "                 RandomForestClassifier(max_depth=8, max_features=&#x27;auto&#x27;,\n",
              "                                        min_samples_leaf=15,\n",
              "                                        random_state=42))])</pre></div></div></div><div class=\"sk-serial\"><div class=\"sk-item\"><div class=\"sk-estimator sk-toggleable\"><input class=\"sk-toggleable__control sk-hidden--visually\" id=\"sk-estimator-id-2\" type=\"checkbox\" ><label for=\"sk-estimator-id-2\" class=\"sk-toggleable__label sk-toggleable__label-arrow\">StandardScaler</label><div class=\"sk-toggleable__content\"><pre>StandardScaler()</pre></div></div></div><div class=\"sk-item\"><div class=\"sk-estimator sk-toggleable\"><input class=\"sk-toggleable__control sk-hidden--visually\" id=\"sk-estimator-id-3\" type=\"checkbox\" ><label for=\"sk-estimator-id-3\" class=\"sk-toggleable__label sk-toggleable__label-arrow\">PCA</label><div class=\"sk-toggleable__content\"><pre>PCA()</pre></div></div></div><div class=\"sk-item\"><div class=\"sk-estimator sk-toggleable\"><input class=\"sk-toggleable__control sk-hidden--visually\" id=\"sk-estimator-id-4\" type=\"checkbox\" ><label for=\"sk-estimator-id-4\" class=\"sk-toggleable__label sk-toggleable__label-arrow\">RandomForestClassifier</label><div class=\"sk-toggleable__content\"><pre>RandomForestClassifier(max_depth=8, max_features=&#x27;auto&#x27;, min_samples_leaf=15,\n",
              "                       random_state=42)</pre></div></div></div></div></div></div></div>"
            ],
            "text/plain": [
              "Pipeline(steps=[('scalar3', StandardScaler()), ('pca3', PCA()),\n",
              "                ('rf_classifier',\n",
              "                 RandomForestClassifier(max_depth=8, max_features='auto',\n",
              "                                        min_samples_leaf=15,\n",
              "                                        random_state=42))])"
            ]
          },
          "execution_count": 9,
          "metadata": {},
          "output_type": "execute_result"
        }
      ],
      "source": [
        "RF_model.fit(x_train, y_train)"
      ]
    },
    {
      "cell_type": "code",
      "execution_count": 10,
      "metadata": {
        "id": "GyByiEqzqSJ_"
      },
      "outputs": [],
      "source": [
        "pred=RF_model.predict(x_test)"
      ]
    },
    {
      "cell_type": "code",
      "execution_count": 11,
      "metadata": {
        "colab": {
          "base_uri": "https://localhost:8080/"
        },
        "id": "OUNYlQ0zqUZ4",
        "outputId": "1b569486-d001-4fa1-fad8-5a338597590b"
      },
      "outputs": [
        {
          "name": "stdout",
          "output_type": "stream",
          "text": [
            "Accuracy for Random Forest on CV data:  0.9423333333333334\n"
          ]
        }
      ],
      "source": [
        "print(\"Accuracy for Random Forest on CV data: \",accuracy_score(y_test,pred))"
      ]
    },
    {
      "cell_type": "code",
      "execution_count": 12,
      "metadata": {
        "colab": {
          "base_uri": "https://localhost:8080/"
        },
        "id": "IB88H8HGqdoI",
        "outputId": "08582da1-76a0-47c3-fa2b-2fca91e12e35"
      },
      "outputs": [
        {
          "name": "stdout",
          "output_type": "stream",
          "text": [
            "RF_model Saved\n"
          ]
        }
      ],
      "source": [
        "# Save the Modle to file in the current working directory\n",
        "import pickle\n",
        "Pkl_Filename = \"Model.pkl\"  \n",
        "\n",
        "with open(Pkl_Filename, 'wb') as file:  \n",
        "    pickle.dump(RF_model, file)\n",
        "print(\"RF_model Saved\")"
      ]
    },
    {
      "cell_type": "markdown",
      "metadata": {
        "id": "h_oNvXPH15wm"
      },
      "source": [
        "# Now we are testing the data"
      ]
    },
    {
      "cell_type": "code",
      "execution_count": 15,
      "metadata": {
        "colab": {
          "base_uri": "https://localhost:8080/"
        },
        "id": "s67hlhniqeac",
        "outputId": "b215d7b6-997b-4fbe-d41a-a074078a7729"
      },
      "outputs": [
        {
          "data": {
            "text/html": [
              "<style>#sk-container-id-2 {color: black;background-color: white;}#sk-container-id-2 pre{padding: 0;}#sk-container-id-2 div.sk-toggleable {background-color: white;}#sk-container-id-2 label.sk-toggleable__label {cursor: pointer;display: block;width: 100%;margin-bottom: 0;padding: 0.3em;box-sizing: border-box;text-align: center;}#sk-container-id-2 label.sk-toggleable__label-arrow:before {content: \"▸\";float: left;margin-right: 0.25em;color: #696969;}#sk-container-id-2 label.sk-toggleable__label-arrow:hover:before {color: black;}#sk-container-id-2 div.sk-estimator:hover label.sk-toggleable__label-arrow:before {color: black;}#sk-container-id-2 div.sk-toggleable__content {max-height: 0;max-width: 0;overflow: hidden;text-align: left;background-color: #f0f8ff;}#sk-container-id-2 div.sk-toggleable__content pre {margin: 0.2em;color: black;border-radius: 0.25em;background-color: #f0f8ff;}#sk-container-id-2 input.sk-toggleable__control:checked~div.sk-toggleable__content {max-height: 200px;max-width: 100%;overflow: auto;}#sk-container-id-2 input.sk-toggleable__control:checked~label.sk-toggleable__label-arrow:before {content: \"▾\";}#sk-container-id-2 div.sk-estimator input.sk-toggleable__control:checked~label.sk-toggleable__label {background-color: #d4ebff;}#sk-container-id-2 div.sk-label input.sk-toggleable__control:checked~label.sk-toggleable__label {background-color: #d4ebff;}#sk-container-id-2 input.sk-hidden--visually {border: 0;clip: rect(1px 1px 1px 1px);clip: rect(1px, 1px, 1px, 1px);height: 1px;margin: -1px;overflow: hidden;padding: 0;position: absolute;width: 1px;}#sk-container-id-2 div.sk-estimator {font-family: monospace;background-color: #f0f8ff;border: 1px dotted black;border-radius: 0.25em;box-sizing: border-box;margin-bottom: 0.5em;}#sk-container-id-2 div.sk-estimator:hover {background-color: #d4ebff;}#sk-container-id-2 div.sk-parallel-item::after {content: \"\";width: 100%;border-bottom: 1px solid gray;flex-grow: 1;}#sk-container-id-2 div.sk-label:hover label.sk-toggleable__label {background-color: #d4ebff;}#sk-container-id-2 div.sk-serial::before {content: \"\";position: absolute;border-left: 1px solid gray;box-sizing: border-box;top: 0;bottom: 0;left: 50%;z-index: 0;}#sk-container-id-2 div.sk-serial {display: flex;flex-direction: column;align-items: center;background-color: white;padding-right: 0.2em;padding-left: 0.2em;position: relative;}#sk-container-id-2 div.sk-item {position: relative;z-index: 1;}#sk-container-id-2 div.sk-parallel {display: flex;align-items: stretch;justify-content: center;background-color: white;position: relative;}#sk-container-id-2 div.sk-item::before, #sk-container-id-2 div.sk-parallel-item::before {content: \"\";position: absolute;border-left: 1px solid gray;box-sizing: border-box;top: 0;bottom: 0;left: 50%;z-index: -1;}#sk-container-id-2 div.sk-parallel-item {display: flex;flex-direction: column;z-index: 1;position: relative;background-color: white;}#sk-container-id-2 div.sk-parallel-item:first-child::after {align-self: flex-end;width: 50%;}#sk-container-id-2 div.sk-parallel-item:last-child::after {align-self: flex-start;width: 50%;}#sk-container-id-2 div.sk-parallel-item:only-child::after {width: 0;}#sk-container-id-2 div.sk-dashed-wrapped {border: 1px dashed gray;margin: 0 0.4em 0.5em 0.4em;box-sizing: border-box;padding-bottom: 0.4em;background-color: white;}#sk-container-id-2 div.sk-label label {font-family: monospace;font-weight: bold;display: inline-block;line-height: 1.2em;}#sk-container-id-2 div.sk-label-container {text-align: center;}#sk-container-id-2 div.sk-container {/* jupyter's `normalize.less` sets `[hidden] { display: none; }` but bootstrap.min.css set `[hidden] { display: none !important; }` so we also need the `!important` here to be able to override the default hidden behavior on the sphinx rendered scikit-learn.org. See: https://github.com/scikit-learn/scikit-learn/issues/21755 */display: inline-block !important;position: relative;}#sk-container-id-2 div.sk-text-repr-fallback {display: none;}</style><div id=\"sk-container-id-2\" class=\"sk-top-container\"><div class=\"sk-text-repr-fallback\"><pre>Pipeline(steps=[(&#x27;scalar3&#x27;, StandardScaler()), (&#x27;pca3&#x27;, PCA()),\n",
              "                (&#x27;rf_classifier&#x27;,\n",
              "                 RandomForestClassifier(max_depth=8, max_features=&#x27;auto&#x27;,\n",
              "                                        min_samples_leaf=15,\n",
              "                                        random_state=42))])</pre><b>In a Jupyter environment, please rerun this cell to show the HTML representation or trust the notebook. <br />On GitHub, the HTML representation is unable to render, please try loading this page with nbviewer.org.</b></div><div class=\"sk-container\" hidden><div class=\"sk-item sk-dashed-wrapped\"><div class=\"sk-label-container\"><div class=\"sk-label sk-toggleable\"><input class=\"sk-toggleable__control sk-hidden--visually\" id=\"sk-estimator-id-5\" type=\"checkbox\" ><label for=\"sk-estimator-id-5\" class=\"sk-toggleable__label sk-toggleable__label-arrow\">Pipeline</label><div class=\"sk-toggleable__content\"><pre>Pipeline(steps=[(&#x27;scalar3&#x27;, StandardScaler()), (&#x27;pca3&#x27;, PCA()),\n",
              "                (&#x27;rf_classifier&#x27;,\n",
              "                 RandomForestClassifier(max_depth=8, max_features=&#x27;auto&#x27;,\n",
              "                                        min_samples_leaf=15,\n",
              "                                        random_state=42))])</pre></div></div></div><div class=\"sk-serial\"><div class=\"sk-item\"><div class=\"sk-estimator sk-toggleable\"><input class=\"sk-toggleable__control sk-hidden--visually\" id=\"sk-estimator-id-6\" type=\"checkbox\" ><label for=\"sk-estimator-id-6\" class=\"sk-toggleable__label sk-toggleable__label-arrow\">StandardScaler</label><div class=\"sk-toggleable__content\"><pre>StandardScaler()</pre></div></div></div><div class=\"sk-item\"><div class=\"sk-estimator sk-toggleable\"><input class=\"sk-toggleable__control sk-hidden--visually\" id=\"sk-estimator-id-7\" type=\"checkbox\" ><label for=\"sk-estimator-id-7\" class=\"sk-toggleable__label sk-toggleable__label-arrow\">PCA</label><div class=\"sk-toggleable__content\"><pre>PCA()</pre></div></div></div><div class=\"sk-item\"><div class=\"sk-estimator sk-toggleable\"><input class=\"sk-toggleable__control sk-hidden--visually\" id=\"sk-estimator-id-8\" type=\"checkbox\" ><label for=\"sk-estimator-id-8\" class=\"sk-toggleable__label sk-toggleable__label-arrow\">RandomForestClassifier</label><div class=\"sk-toggleable__content\"><pre>RandomForestClassifier(max_depth=8, max_features=&#x27;auto&#x27;, min_samples_leaf=15,\n",
              "                       random_state=42)</pre></div></div></div></div></div></div></div>"
            ],
            "text/plain": [
              "Pipeline(steps=[('scalar3', StandardScaler()), ('pca3', PCA()),\n",
              "                ('rf_classifier',\n",
              "                 RandomForestClassifier(max_depth=8, max_features='auto',\n",
              "                                        min_samples_leaf=15,\n",
              "                                        random_state=42))])"
            ]
          },
          "execution_count": 15,
          "metadata": {},
          "output_type": "execute_result"
        }
      ],
      "source": [
        "# Load the Model back from file\n",
        "Pkl_Filename = \"Model.pkl\"  \n",
        "with open(Pkl_Filename, 'rb') as file:  \n",
        "  Pickled_RF_model= pickle.load(file)\n",
        "\n",
        "Pickled_RF_model"
      ]
    },
    {
      "cell_type": "code",
      "execution_count": 16,
      "metadata": {
        "colab": {
          "base_uri": "https://localhost:8080/"
        },
        "id": "6JQ9NRAfz0oE",
        "outputId": "4d916a97-6814-4f59-8828-16148c53e863"
      },
      "outputs": [
        {
          "name": "stdout",
          "output_type": "stream",
          "text": [
            "Test score: 94.23 %\n"
          ]
        },
        {
          "data": {
            "text/plain": [
              "array([0, 1, 1, ..., 1, 1, 0])"
            ]
          },
          "execution_count": 16,
          "metadata": {},
          "output_type": "execute_result"
        }
      ],
      "source": [
        "# Use the Reloaded Model to \n",
        "# Calculate the accuracy score and predict target values\n",
        "\n",
        "# Calculate the Score \n",
        "score = Pickled_RF_model.score(x_test, y_test)  \n",
        "# Print the Score\n",
        "print(\"Test score: {0:.2f} %\".format(100 * score))  \n",
        "\n",
        "# Predict the Labels using the reloaded Model\n",
        "Ypredict = Pickled_RF_model.predict(x_test)  \n",
        "\n",
        "Ypredict"
      ]
    },
    {
      "cell_type": "code",
      "execution_count": 17,
      "metadata": {
        "id": "35yMeZMsz_2z"
      },
      "outputs": [],
      "source": [
        "#predict the data using only one row\n",
        "\n",
        "features= np.array([-0.39953817, -0.97712131,  1.24544234,  0.94905287,  1.7934207 ,\n",
        "       -0.72105241,  0.71068923, -0.77640272,  1.36614126, -1.42028025,\n",
        "        0.790728  ,  0.89664203, -0.02611889, -0.61222435,  1.12123451,\n",
        "        1.2181234 ,  0.33202657,  0.30275497,  0.838198  ,  0.55880226,\n",
        "        0.35222467,  0.51204671,  1.14737082, -0.18496812, -0.09257469,\n",
        "       -0.5097014 ,  0.79919997,  0.73473953,  0.42037289, -0.29209222])"
      ]
    },
    {
      "cell_type": "code",
      "execution_count": 18,
      "metadata": {
        "colab": {
          "base_uri": "https://localhost:8080/"
        },
        "id": "gdwcmZEd0FtG",
        "outputId": "fe0ebdaa-f8f6-40db-e5fb-7415848934de"
      },
      "outputs": [
        {
          "data": {
            "text/plain": [
              "array([0])"
            ]
          },
          "execution_count": 18,
          "metadata": {},
          "output_type": "execute_result"
        }
      ],
      "source": [
        "Ypredict = Pickled_RF_model.predict([features])  \n",
        "\n",
        "Ypredict"
      ]
    }
  ],
  "metadata": {
    "colab": {
      "name": "Final_model.ipynb",
      "provenance": []
    },
    "kernelspec": {
      "display_name": "Python 3",
      "name": "python3"
    },
    "language_info": {
      "codemirror_mode": {
        "name": "ipython",
        "version": 3
      },
      "file_extension": ".py",
      "mimetype": "text/x-python",
      "name": "python",
      "nbconvert_exporter": "python",
      "pygments_lexer": "ipython3",
      "version": "3.8.16"
    }
  },
  "nbformat": 4,
  "nbformat_minor": 0
}
