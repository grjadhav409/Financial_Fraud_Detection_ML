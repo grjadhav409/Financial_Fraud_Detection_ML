{
 "cells": [
  {
   "cell_type": "code",
   "execution_count": 4,
   "metadata": {},
   "outputs": [],
   "source": [
    "from sensor.pipeline.training_pipeline import TrainingPipeline"
   ]
  },
  {
   "cell_type": "code",
   "execution_count": 5,
   "metadata": {},
   "outputs": [],
   "source": [
    "training_pipeline = TrainingPipeline()"
   ]
  },
  {
   "cell_type": "code",
   "execution_count": 6,
   "metadata": {},
   "outputs": [
    {
     "ename": "SensorException",
     "evalue": "** Error occurred python script name [ /Users/ganeshjadhav/Desktop/ML_Projects/LiveClass/sensor/pipeline/training_pipeline.py ] line number [20] error message [__init__() got an unexpected keyword argument 'data_ingestion_config']**",
     "output_type": "error",
     "traceback": [
      "\u001b[0;31m---------------------------------------------------------------------------\u001b[0m",
      "\u001b[0;31mTypeError\u001b[0m                                 Traceback (most recent call last)",
      "File \u001b[0;32m~/Desktop/ML_Projects/LiveClass/sensor/pipeline/training_pipeline.py:20\u001b[0m, in \u001b[0;36mTrainingPipeline.start_data_injestion\u001b[0;34m(self)\u001b[0m\n\u001b[1;32m     19\u001b[0m \u001b[39mself\u001b[39m\u001b[39m.\u001b[39mdata_injestion_config \u001b[39m=\u001b[39m DataIngestionConfig(training_pipeline_config\u001b[39m=\u001b[39m\u001b[39mself\u001b[39m\u001b[39m.\u001b[39mtraining_pipeline_config)\n\u001b[0;32m---> 20\u001b[0m data_injestion: DataInjestion \u001b[39m=\u001b[39m DataInjestion(data_ingestion_config\u001b[39m=\u001b[39;49m\u001b[39mself\u001b[39;49m\u001b[39m.\u001b[39;49mdata_injestion_config)\n\u001b[1;32m     21\u001b[0m data_injestion_artifact:DataInjestionArtifact \u001b[39m=\u001b[39m data_injestion\u001b[39m.\u001b[39minitiate_data_injestion()\n",
      "\u001b[0;31mTypeError\u001b[0m: __init__() got an unexpected keyword argument 'data_ingestion_config'",
      "\nDuring handling of the above exception, another exception occurred:\n",
      "\u001b[0;31mSensorException\u001b[0m                           Traceback (most recent call last)",
      "Cell \u001b[0;32mIn[6], line 1\u001b[0m\n\u001b[0;32m----> 1\u001b[0m training_pipeline\u001b[39m.\u001b[39;49mstart_data_injestion()\n",
      "File \u001b[0;32m~/Desktop/ML_Projects/LiveClass/sensor/pipeline/training_pipeline.py:27\u001b[0m, in \u001b[0;36mTrainingPipeline.start_data_injestion\u001b[0;34m(self)\u001b[0m\n\u001b[1;32m     25\u001b[0m \u001b[39mexcept\u001b[39;00m \u001b[39mException\u001b[39;00m \u001b[39mas\u001b[39;00m e:\n\u001b[1;32m     26\u001b[0m     logging\u001b[39m.\u001b[39merror(SensorException(e,sys))\n\u001b[0;32m---> 27\u001b[0m     \u001b[39mraise\u001b[39;00m SensorException(e,sys)\n",
      "\u001b[0;31mSensorException\u001b[0m: ** Error occurred python script name [ /Users/ganeshjadhav/Desktop/ML_Projects/LiveClass/sensor/pipeline/training_pipeline.py ] line number [20] error message [__init__() got an unexpected keyword argument 'data_ingestion_config']**"
     ]
    }
   ],
   "source": [
    "training_pipeline.start_data_injestion()"
   ]
  },
  {
   "cell_type": "code",
   "execution_count": null,
   "metadata": {},
   "outputs": [],
   "source": []
  }
 ],
 "metadata": {
  "kernelspec": {
   "display_name": "FinancialFraud",
   "language": "python",
   "name": "python3"
  },
  "language_info": {
   "codemirror_mode": {
    "name": "ipython",
    "version": 3
   },
   "file_extension": ".py",
   "mimetype": "text/x-python",
   "name": "python",
   "nbconvert_exporter": "python",
   "pygments_lexer": "ipython3",
   "version": "3.8.16"
  },
  "orig_nbformat": 4
 },
 "nbformat": 4,
 "nbformat_minor": 2
}
